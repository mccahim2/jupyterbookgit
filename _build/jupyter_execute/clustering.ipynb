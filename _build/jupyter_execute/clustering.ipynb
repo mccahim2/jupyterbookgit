{
 "cells": [
  {
   "cell_type": "markdown",
   "metadata": {},
   "source": [
    "# K-Means Clustering"
   ]
  },
  {
   "cell_type": "markdown",
   "metadata": {},
   "source": [
    "### Table of contents"
   ]
  },
  {
   "cell_type": "code",
   "execution_count": 1,
   "metadata": {},
   "outputs": [],
   "source": [
    "import pandas as pd\n",
    "import numpy as np\n",
    "from sklearn.cluster import KMeans\n",
    "from sklearn import metrics\n",
    "from scipy.spatial.distance import cdist\n",
    "import numpy as np\n",
    "import matplotlib.pyplot as plt\n",
    "import seaborn as sns\n",
    "from sklearn.metrics import silhouette_score\n",
    "from sklearn.decomposition import PCA\n",
    "%matplotlib inline"
   ]
  },
  {
   "cell_type": "markdown",
   "metadata": {},
   "source": [
    "Read in normalised data"
   ]
  },
  {
   "cell_type": "code",
   "execution_count": 2,
   "metadata": {},
   "outputs": [
    {
     "data": {
      "text/html": [
       "<div>\n",
       "<style scoped>\n",
       "    .dataframe tbody tr th:only-of-type {\n",
       "        vertical-align: middle;\n",
       "    }\n",
       "\n",
       "    .dataframe tbody tr th {\n",
       "        vertical-align: top;\n",
       "    }\n",
       "\n",
       "    .dataframe thead th {\n",
       "        text-align: right;\n",
       "    }\n",
       "</style>\n",
       "<table border=\"1\" class=\"dataframe\">\n",
       "  <thead>\n",
       "    <tr style=\"text-align: right;\">\n",
       "      <th></th>\n",
       "      <th>Total</th>\n",
       "      <th>Study_Type</th>\n",
       "      <th>No_participants</th>\n",
       "      <th>Amount_won</th>\n",
       "      <th>Amount_lost</th>\n",
       "      <th>1</th>\n",
       "      <th>2</th>\n",
       "      <th>3</th>\n",
       "      <th>4</th>\n",
       "    </tr>\n",
       "  </thead>\n",
       "  <tbody>\n",
       "    <tr>\n",
       "      <th>0</th>\n",
       "      <td>1.044988</td>\n",
       "      <td>-1.607073</td>\n",
       "      <td>-0.698836</td>\n",
       "      <td>-1.471413</td>\n",
       "      <td>1.525683</td>\n",
       "      <td>-0.477115</td>\n",
       "      <td>-1.386904</td>\n",
       "      <td>-1.089197</td>\n",
       "      <td>2.131753</td>\n",
       "    </tr>\n",
       "    <tr>\n",
       "      <th>1</th>\n",
       "      <td>-0.414346</td>\n",
       "      <td>-1.607073</td>\n",
       "      <td>-0.698836</td>\n",
       "      <td>-0.538613</td>\n",
       "      <td>0.135451</td>\n",
       "      <td>1.024186</td>\n",
       "      <td>-0.420182</td>\n",
       "      <td>-0.668854</td>\n",
       "      <td>0.038743</td>\n",
       "    </tr>\n",
       "    <tr>\n",
       "      <th>2</th>\n",
       "      <td>-0.474318</td>\n",
       "      <td>-1.607073</td>\n",
       "      <td>-0.698836</td>\n",
       "      <td>-0.635110</td>\n",
       "      <td>0.167288</td>\n",
       "      <td>-0.477115</td>\n",
       "      <td>0.091612</td>\n",
       "      <td>-0.762264</td>\n",
       "      <td>0.314139</td>\n",
       "    </tr>\n",
       "    <tr>\n",
       "      <th>3</th>\n",
       "      <td>-0.294400</td>\n",
       "      <td>-1.607073</td>\n",
       "      <td>-0.698836</td>\n",
       "      <td>-0.699441</td>\n",
       "      <td>0.305250</td>\n",
       "      <td>-0.602224</td>\n",
       "      <td>0.034746</td>\n",
       "      <td>-0.668854</td>\n",
       "      <td>0.314139</td>\n",
       "    </tr>\n",
       "    <tr>\n",
       "      <th>4</th>\n",
       "      <td>0.205371</td>\n",
       "      <td>-1.607073</td>\n",
       "      <td>-0.698836</td>\n",
       "      <td>-1.053262</td>\n",
       "      <td>0.804036</td>\n",
       "      <td>-0.727332</td>\n",
       "      <td>-0.533914</td>\n",
       "      <td>-0.528740</td>\n",
       "      <td>0.754773</td>\n",
       "    </tr>\n",
       "  </tbody>\n",
       "</table>\n",
       "</div>"
      ],
      "text/plain": [
       "      Total  Study_Type  No_participants  Amount_won  Amount_lost         1  \\\n",
       "0  1.044988   -1.607073        -0.698836   -1.471413     1.525683 -0.477115   \n",
       "1 -0.414346   -1.607073        -0.698836   -0.538613     0.135451  1.024186   \n",
       "2 -0.474318   -1.607073        -0.698836   -0.635110     0.167288 -0.477115   \n",
       "3 -0.294400   -1.607073        -0.698836   -0.699441     0.305250 -0.602224   \n",
       "4  0.205371   -1.607073        -0.698836   -1.053262     0.804036 -0.727332   \n",
       "\n",
       "          2         3         4  \n",
       "0 -1.386904 -1.089197  2.131753  \n",
       "1 -0.420182 -0.668854  0.038743  \n",
       "2  0.091612 -0.762264  0.314139  \n",
       "3  0.034746 -0.668854  0.314139  \n",
       "4 -0.533914 -0.528740  0.754773  "
      ]
     },
     "execution_count": 2,
     "metadata": {},
     "output_type": "execute_result"
    }
   ],
   "source": [
    "df = pd.read_csv('data/normalise.csv')\n",
    "df=df.drop([\"Unnamed: 0\"], axis=1) # Drop Unnamed: 0 column\n",
    "df.head()"
   ]
  },
  {
   "cell_type": "code",
   "execution_count": 3,
   "metadata": {},
   "outputs": [
    {
     "data": {
      "text/html": [
       "<div>\n",
       "<style scoped>\n",
       "    .dataframe tbody tr th:only-of-type {\n",
       "        vertical-align: middle;\n",
       "    }\n",
       "\n",
       "    .dataframe tbody tr th {\n",
       "        vertical-align: top;\n",
       "    }\n",
       "\n",
       "    .dataframe thead th {\n",
       "        text-align: right;\n",
       "    }\n",
       "</style>\n",
       "<table border=\"1\" class=\"dataframe\">\n",
       "  <thead>\n",
       "    <tr style=\"text-align: right;\">\n",
       "      <th></th>\n",
       "      <th>Total</th>\n",
       "      <th>Study_Type</th>\n",
       "      <th>No_participants</th>\n",
       "      <th>Amount_won</th>\n",
       "      <th>Amount_lost</th>\n",
       "      <th>1</th>\n",
       "      <th>2</th>\n",
       "      <th>3</th>\n",
       "      <th>4</th>\n",
       "    </tr>\n",
       "  </thead>\n",
       "  <tbody>\n",
       "    <tr>\n",
       "      <th>0</th>\n",
       "      <td>1.044988</td>\n",
       "      <td>-1.607073</td>\n",
       "      <td>-0.698836</td>\n",
       "      <td>-1.471413</td>\n",
       "      <td>1.525683</td>\n",
       "      <td>-0.477115</td>\n",
       "      <td>-1.386904</td>\n",
       "      <td>-1.089197</td>\n",
       "      <td>2.131753</td>\n",
       "    </tr>\n",
       "    <tr>\n",
       "      <th>1</th>\n",
       "      <td>-0.414346</td>\n",
       "      <td>-1.607073</td>\n",
       "      <td>-0.698836</td>\n",
       "      <td>-0.538613</td>\n",
       "      <td>0.135451</td>\n",
       "      <td>1.024186</td>\n",
       "      <td>-0.420182</td>\n",
       "      <td>-0.668854</td>\n",
       "      <td>0.038743</td>\n",
       "    </tr>\n",
       "    <tr>\n",
       "      <th>2</th>\n",
       "      <td>-0.474318</td>\n",
       "      <td>-1.607073</td>\n",
       "      <td>-0.698836</td>\n",
       "      <td>-0.635110</td>\n",
       "      <td>0.167288</td>\n",
       "      <td>-0.477115</td>\n",
       "      <td>0.091612</td>\n",
       "      <td>-0.762264</td>\n",
       "      <td>0.314139</td>\n",
       "    </tr>\n",
       "    <tr>\n",
       "      <th>3</th>\n",
       "      <td>-0.294400</td>\n",
       "      <td>-1.607073</td>\n",
       "      <td>-0.698836</td>\n",
       "      <td>-0.699441</td>\n",
       "      <td>0.305250</td>\n",
       "      <td>-0.602224</td>\n",
       "      <td>0.034746</td>\n",
       "      <td>-0.668854</td>\n",
       "      <td>0.314139</td>\n",
       "    </tr>\n",
       "    <tr>\n",
       "      <th>4</th>\n",
       "      <td>0.205371</td>\n",
       "      <td>-1.607073</td>\n",
       "      <td>-0.698836</td>\n",
       "      <td>-1.053262</td>\n",
       "      <td>0.804036</td>\n",
       "      <td>-0.727332</td>\n",
       "      <td>-0.533914</td>\n",
       "      <td>-0.528740</td>\n",
       "      <td>0.754773</td>\n",
       "    </tr>\n",
       "  </tbody>\n",
       "</table>\n",
       "</div>"
      ],
      "text/plain": [
       "      Total  Study_Type  No_participants  Amount_won  Amount_lost         1  \\\n",
       "0  1.044988   -1.607073        -0.698836   -1.471413     1.525683 -0.477115   \n",
       "1 -0.414346   -1.607073        -0.698836   -0.538613     0.135451  1.024186   \n",
       "2 -0.474318   -1.607073        -0.698836   -0.635110     0.167288 -0.477115   \n",
       "3 -0.294400   -1.607073        -0.698836   -0.699441     0.305250 -0.602224   \n",
       "4  0.205371   -1.607073        -0.698836   -1.053262     0.804036 -0.727332   \n",
       "\n",
       "          2         3         4  \n",
       "0 -1.386904 -1.089197  2.131753  \n",
       "1 -0.420182 -0.668854  0.038743  \n",
       "2  0.091612 -0.762264  0.314139  \n",
       "3  0.034746 -0.668854  0.314139  \n",
       "4 -0.533914 -0.528740  0.754773  "
      ]
     },
     "execution_count": 3,
     "metadata": {},
     "output_type": "execute_result"
    }
   ],
   "source": [
    "df.head()"
   ]
  },
  {
   "cell_type": "markdown",
   "metadata": {},
   "source": [
    ":::{note}\n",
    "This correlation matrix is used to find highly correlated variables\n",
    ":::"
   ]
  },
  {
   "cell_type": "code",
   "execution_count": 4,
   "metadata": {},
   "outputs": [
    {
     "data": {
      "image/png": "[encoded data removed]",
      "text/plain": [
       "<Figure size 1152x432 with 2 Axes>"
      ]
     },
     "metadata": {
      "filenames": {
       "image/png": "/home/michael/Desktop/4th_Year_College/Machine_Learning/jupyterbookgit/_build/jupyter_execute/clustering_7_0.png"
      },
      "needs_background": "light"
     },
     "output_type": "display_data"
    }
   ],
   "source": [
    "plt.figure(figsize=(16, 6))\n",
    "heatmap = sns.heatmap(df.corr(), vmin=-1, vmax=1, annot=True)\n",
    "heatmap.set_title('Correlation Heatmap', fontdict={'fontsize':12}, pad=12);"
   ]
  },
  {
   "cell_type": "markdown",
   "metadata": {},
   "source": [
    "### PCA"
   ]
  },
  {
   "cell_type": "markdown",
   "metadata": {},
   "source": [
    "To avoid the curse of dimensionality. The curse of dimensionality is the problem caused by the exponential increase in volume associated with adding extra dimensions to Euclidean space. To avoid this we can perform Principal Component analysis (PCA) to our data frame. This will leave use with an array of components.\n",
    "\n",
    "PCA is believed to imporve the performance for cluster analysis\n",
    "\n",
    "For the purpose of this assignment I will select 2 features to be used for clustering"
   ]
  },
  {
   "cell_type": "code",
   "execution_count": 5,
   "metadata": {},
   "outputs": [],
   "source": [
    "pca = PCA(2)\n",
    "df_tester = pca.fit_transform(df)"
   ]
  },
  {
   "cell_type": "code",
   "execution_count": 6,
   "metadata": {},
   "outputs": [
    {
     "data": {
      "text/plain": [
       "array([[-2.98565138, -0.90534442],\n",
       "       [-0.2845081 , -1.42223416],\n",
       "       [-0.54699829, -1.50399143],\n",
       "       ...,\n",
       "       [-0.20959764,  3.05643034],\n",
       "       [ 0.99635261,  3.05873358],\n",
       "       [ 5.87050839,  1.25408754]])"
      ]
     },
     "execution_count": 6,
     "metadata": {},
     "output_type": "execute_result"
    }
   ],
   "source": [
    "df_tester"
   ]
  },
  {
   "cell_type": "markdown",
   "metadata": {},
   "source": [
    "The newly optained PCA scores will be incorporated in the the K-means algorithm"
   ]
  },
  {
   "cell_type": "markdown",
   "metadata": {},
   "source": [
    "The next step of the clustering process is to determine a value for K. This can be done by:<br />\n",
    "* **The Elbow Method**\n",
    "* **Silhouette score**\n",
    "\n",
    "These two methods will be used to find the best value for K to use for clustering"
   ]
  },
  {
   "cell_type": "markdown",
   "metadata": {},
   "source": [
    "### Methods for finding K Value"
   ]
  },
  {
   "cell_type": "code",
   "execution_count": 7,
   "metadata": {},
   "outputs": [],
   "source": [
    "# Elbow(distortion and inertia) method and silhouette method"
   ]
  },
  {
   "cell_type": "markdown",
   "metadata": {},
   "source": [
    "When the distortions are plotted and the plot looks like an arm then the [“elbow”](https://predictivehacks.com/k-means-elbow-method-code-for-python/)(the point of inflection on the curve) is the best value of k."
   ]
  },
  {
   "cell_type": "markdown",
   "metadata": {},
   "source": [
    "The formula for the Elbow method can be seen here: <br />\n",
    "$$\n",
    "    Sum Squared Errors = \\sum_{i=1}^{N} {(y_i - ŷ_i)^2}\n",
    "$$"
   ]
  },
  {
   "cell_type": "markdown",
   "metadata": {},
   "source": [
    "The formula for the Silhouette Score method can be seen here: <br />\n",
    "$$\n",
    "    s_{i} = \\frac{b_{i} - a_{i}}{max(b_{i}, a_{i})}\n",
    "$$"
   ]
  },
  {
   "cell_type": "code",
   "execution_count": 8,
   "metadata": {},
   "outputs": [],
   "source": [
    "wcss=[]\n",
    "for i in range(1,21):\n",
    "    k_means_pca=KMeans(n_clusters=i, init=\"k-means++\", random_state=42)\n",
    "    k_means_pca.fit(df_tester)\n",
    "    wcss.append(k_means_pca.inertia_)"
   ]
  },
  {
   "cell_type": "code",
   "execution_count": 9,
   "metadata": {},
   "outputs": [
    {
     "data": {
      "image/png": "[encoded data removed]",
      "text/plain": [
       "<Figure size 720x576 with 1 Axes>"
      ]
     },
     "metadata": {
      "filenames": {
       "image/png": "/home/michael/Desktop/4th_Year_College/Machine_Learning/jupyterbookgit/_build/jupyter_execute/clustering_20_0.png"
      },
      "needs_background": "light"
     },
     "output_type": "display_data"
    }
   ],
   "source": [
    "plt.figure(figsize=(10,8))\n",
    "plt.plot(range(1,21), wcss, marker=\"o\", linestyle=\"--\")\n",
    "plt.xlabel(\"Number of Clusters\")\n",
    "plt.ylabel(\"WCSS\")\n",
    "plt.title(\"K-means with PCA Clustering\")\n",
    "plt.show()"
   ]
  },
  {
   "cell_type": "code",
   "execution_count": 10,
   "metadata": {},
   "outputs": [
    {
     "name": "stdout",
     "output_type": "stream",
     "text": [
      "N = 2 Silhouette Score: 0.266\n",
      "N = 3 Silhouette Score: 0.265\n"
     ]
    },
    {
     "name": "stdout",
     "output_type": "stream",
     "text": [
      "N = 4 Silhouette Score: 0.261\n"
     ]
    },
    {
     "name": "stdout",
     "output_type": "stream",
     "text": [
      "N = 5 Silhouette Score: 0.188\n"
     ]
    },
    {
     "name": "stdout",
     "output_type": "stream",
     "text": [
      "N = 6 Silhouette Score: 0.186\n"
     ]
    },
    {
     "name": "stdout",
     "output_type": "stream",
     "text": [
      "N = 7 Silhouette Score: 0.154\n"
     ]
    },
    {
     "name": "stdout",
     "output_type": "stream",
     "text": [
      "N = 8 Silhouette Score: 0.159\n"
     ]
    },
    {
     "name": "stdout",
     "output_type": "stream",
     "text": [
      "N = 9 Silhouette Score: 0.121\n"
     ]
    },
    {
     "name": "stdout",
     "output_type": "stream",
     "text": [
      "N = 10 Silhouette Score: 0.105\n"
     ]
    },
    {
     "name": "stdout",
     "output_type": "stream",
     "text": [
      "N = 11 Silhouette Score: 0.089\n"
     ]
    },
    {
     "name": "stdout",
     "output_type": "stream",
     "text": [
      "N = 12 Silhouette Score: 0.068\n"
     ]
    },
    {
     "name": "stdout",
     "output_type": "stream",
     "text": [
      "N = 13 Silhouette Score: 0.062\n"
     ]
    },
    {
     "name": "stdout",
     "output_type": "stream",
     "text": [
      "N = 14 Silhouette Score: 0.073\n"
     ]
    },
    {
     "name": "stdout",
     "output_type": "stream",
     "text": [
      "N = 15 Silhouette Score: 0.076\n"
     ]
    },
    {
     "name": "stdout",
     "output_type": "stream",
     "text": [
      "N = 16 Silhouette Score: 0.068\n"
     ]
    },
    {
     "name": "stdout",
     "output_type": "stream",
     "text": [
      "N = 17 Silhouette Score: 0.061\n"
     ]
    },
    {
     "name": "stdout",
     "output_type": "stream",
     "text": [
      "N = 18 Silhouette Score: 0.055\n"
     ]
    },
    {
     "name": "stdout",
     "output_type": "stream",
     "text": [
      "N = 19 Silhouette Score: 0.078\n"
     ]
    },
    {
     "name": "stdout",
     "output_type": "stream",
     "text": [
      "N = 20 Silhouette Score: 0.054\n"
     ]
    }
   ],
   "source": [
    "for n in range(2, 21):\n",
    "    km = KMeans(n_clusters=n)\n",
    "    km.fit_predict(df_tester)\n",
    "    score = silhouette_score(df, km.labels_, metric='euclidean')\n",
    "    print('N = ' + str(n) + ' Silhouette Score: %.3f' % score)"
   ]
  },
  {
   "cell_type": "markdown",
   "metadata": {},
   "source": [
    "From the various methods above the optimal value for K to us used for clustering will be 4"
   ]
  },
  {
   "cell_type": "markdown",
   "metadata": {},
   "source": [
    "### Implementation of the K-means Clustering Process"
   ]
  },
  {
   "cell_type": "code",
   "execution_count": 11,
   "metadata": {},
   "outputs": [],
   "source": [
    "k_means_pca = KMeans(n_clusters=4, init=\"k-means++\", random_state=42)"
   ]
  },
  {
   "cell_type": "code",
   "execution_count": 12,
   "metadata": {},
   "outputs": [
    {
     "data": {
      "text/plain": [
       "KMeans(n_clusters=4, random_state=42)"
      ]
     },
     "execution_count": 12,
     "metadata": {},
     "output_type": "execute_result"
    }
   ],
   "source": [
    "k_means_pca.fit(df_tester)"
   ]
  },
  {
   "cell_type": "code",
   "execution_count": 13,
   "metadata": {},
   "outputs": [],
   "source": [
    "df_segm_pca_kmeans = pd.concat([df.reset_index(drop=True), pd.DataFrame(df_tester)], axis=1)\n",
    "df_segm_pca_kmeans.columns.values[-2:] = [\"Component 1\", \"Component 2\"]\n",
    "\n",
    "df_segm_pca_kmeans[\"Segment K-means PCA\"] = k_means_pca.labels_"
   ]
  },
  {
   "cell_type": "code",
   "execution_count": 14,
   "metadata": {},
   "outputs": [
    {
     "data": {
      "text/html": [
       "<div>\n",
       "<style scoped>\n",
       "    .dataframe tbody tr th:only-of-type {\n",
       "        vertical-align: middle;\n",
       "    }\n",
       "\n",
       "    .dataframe tbody tr th {\n",
       "        vertical-align: top;\n",
       "    }\n",
       "\n",
       "    .dataframe thead th {\n",
       "        text-align: right;\n",
       "    }\n",
       "</style>\n",
       "<table border=\"1\" class=\"dataframe\">\n",
       "  <thead>\n",
       "    <tr style=\"text-align: right;\">\n",
       "      <th></th>\n",
       "      <th>Total</th>\n",
       "      <th>Study_Type</th>\n",
       "      <th>No_participants</th>\n",
       "      <th>Amount_won</th>\n",
       "      <th>Amount_lost</th>\n",
       "      <th>1</th>\n",
       "      <th>2</th>\n",
       "      <th>3</th>\n",
       "      <th>4</th>\n",
       "      <th>Component 1</th>\n",
       "      <th>Component 2</th>\n",
       "      <th>Segment K-means PCA</th>\n",
       "    </tr>\n",
       "  </thead>\n",
       "  <tbody>\n",
       "    <tr>\n",
       "      <th>0</th>\n",
       "      <td>1.044988</td>\n",
       "      <td>-1.607073</td>\n",
       "      <td>-0.698836</td>\n",
       "      <td>-1.471413</td>\n",
       "      <td>1.525683</td>\n",
       "      <td>-0.477115</td>\n",
       "      <td>-1.386904</td>\n",
       "      <td>-1.089197</td>\n",
       "      <td>2.131753</td>\n",
       "      <td>-2.985651</td>\n",
       "      <td>-0.905344</td>\n",
       "      <td>1</td>\n",
       "    </tr>\n",
       "    <tr>\n",
       "      <th>1</th>\n",
       "      <td>-0.414346</td>\n",
       "      <td>-1.607073</td>\n",
       "      <td>-0.698836</td>\n",
       "      <td>-0.538613</td>\n",
       "      <td>0.135451</td>\n",
       "      <td>1.024186</td>\n",
       "      <td>-0.420182</td>\n",
       "      <td>-0.668854</td>\n",
       "      <td>0.038743</td>\n",
       "      <td>-0.284508</td>\n",
       "      <td>-1.422234</td>\n",
       "      <td>0</td>\n",
       "    </tr>\n",
       "    <tr>\n",
       "      <th>2</th>\n",
       "      <td>-0.474318</td>\n",
       "      <td>-1.607073</td>\n",
       "      <td>-0.698836</td>\n",
       "      <td>-0.635110</td>\n",
       "      <td>0.167288</td>\n",
       "      <td>-0.477115</td>\n",
       "      <td>0.091612</td>\n",
       "      <td>-0.762264</td>\n",
       "      <td>0.314139</td>\n",
       "      <td>-0.546998</td>\n",
       "      <td>-1.503991</td>\n",
       "      <td>0</td>\n",
       "    </tr>\n",
       "    <tr>\n",
       "      <th>3</th>\n",
       "      <td>-0.294400</td>\n",
       "      <td>-1.607073</td>\n",
       "      <td>-0.698836</td>\n",
       "      <td>-0.699441</td>\n",
       "      <td>0.305250</td>\n",
       "      <td>-0.602224</td>\n",
       "      <td>0.034746</td>\n",
       "      <td>-0.668854</td>\n",
       "      <td>0.314139</td>\n",
       "      <td>-0.793550</td>\n",
       "      <td>-1.393272</td>\n",
       "      <td>0</td>\n",
       "    </tr>\n",
       "    <tr>\n",
       "      <th>4</th>\n",
       "      <td>0.205371</td>\n",
       "      <td>-1.607073</td>\n",
       "      <td>-0.698836</td>\n",
       "      <td>-1.053262</td>\n",
       "      <td>0.804036</td>\n",
       "      <td>-0.727332</td>\n",
       "      <td>-0.533914</td>\n",
       "      <td>-0.528740</td>\n",
       "      <td>0.754773</td>\n",
       "      <td>-1.757736</td>\n",
       "      <td>-1.109075</td>\n",
       "      <td>1</td>\n",
       "    </tr>\n",
       "  </tbody>\n",
       "</table>\n",
       "</div>"
      ],
      "text/plain": [
       "      Total  Study_Type  No_participants  Amount_won  Amount_lost         1  \\\n",
       "0  1.044988   -1.607073        -0.698836   -1.471413     1.525683 -0.477115   \n",
       "1 -0.414346   -1.607073        -0.698836   -0.538613     0.135451  1.024186   \n",
       "2 -0.474318   -1.607073        -0.698836   -0.635110     0.167288 -0.477115   \n",
       "3 -0.294400   -1.607073        -0.698836   -0.699441     0.305250 -0.602224   \n",
       "4  0.205371   -1.607073        -0.698836   -1.053262     0.804036 -0.727332   \n",
       "\n",
       "          2         3         4  Component 1  Component 2  Segment K-means PCA  \n",
       "0 -1.386904 -1.089197  2.131753    -2.985651    -0.905344                    1  \n",
       "1 -0.420182 -0.668854  0.038743    -0.284508    -1.422234                    0  \n",
       "2  0.091612 -0.762264  0.314139    -0.546998    -1.503991                    0  \n",
       "3  0.034746 -0.668854  0.314139    -0.793550    -1.393272                    0  \n",
       "4 -0.533914 -0.528740  0.754773    -1.757736    -1.109075                    1  "
      ]
     },
     "execution_count": 14,
     "metadata": {},
     "output_type": "execute_result"
    }
   ],
   "source": [
    "df_segm_pca_kmeans.head()"
   ]
  },
  {
   "cell_type": "code",
   "execution_count": 15,
   "metadata": {},
   "outputs": [
    {
     "data": {
      "text/plain": [
       "0    308\n",
       "1    208\n",
       "2     61\n",
       "3     40\n",
       "Name: Segment K-means PCA, dtype: int64"
      ]
     },
     "execution_count": 15,
     "metadata": {},
     "output_type": "execute_result"
    }
   ],
   "source": [
    "df_segm_pca_kmeans[\"Segment K-means PCA\"].value_counts()"
   ]
  },
  {
   "cell_type": "code",
   "execution_count": 16,
   "metadata": {},
   "outputs": [],
   "source": [
    "df_segm_pca_kmeans[\"Segment\"] = df_segm_pca_kmeans[\"Segment K-means PCA\"].map({0:\"first\", 1:\"second\", 2:\"third\", 3:\"fourth\"})"
   ]
  },
  {
   "cell_type": "code",
   "execution_count": 17,
   "metadata": {},
   "outputs": [
    {
     "data": {
      "text/plain": [
       "first     308\n",
       "second    208\n",
       "third      61\n",
       "fourth     40\n",
       "Name: Segment, dtype: int64"
      ]
     },
     "execution_count": 17,
     "metadata": {},
     "output_type": "execute_result"
    }
   ],
   "source": [
    "df_segm_pca_kmeans[\"Segment\"].value_counts()"
   ]
  },
  {
   "cell_type": "code",
   "execution_count": 18,
   "metadata": {},
   "outputs": [
    {
     "name": "stderr",
     "output_type": "stream",
     "text": [
      "/home/michael/anaconda3/lib/python3.7/site-packages/seaborn/_decorators.py:43: FutureWarning: Pass the following variables as keyword args: x, y. From version 0.12, the only valid positional argument will be `data`, and passing other arguments without an explicit keyword will result in an error or misinterpretation.\n",
      "  FutureWarning\n"
     ]
    },
    {
     "data": {
      "image/png": "[encoded data removed]",
      "text/plain": [
       "<Figure size 720x576 with 1 Axes>"
      ]
     },
     "metadata": {
      "filenames": {
       "image/png": "/home/michael/Desktop/4th_Year_College/Machine_Learning/jupyterbookgit/_build/jupyter_execute/clustering_31_1.png"
      },
      "needs_background": "light"
     },
     "output_type": "display_data"
    }
   ],
   "source": [
    "x_axis = df_segm_pca_kmeans[\"Component 1\"]\n",
    "y_axis = df_segm_pca_kmeans[\"Component 2\"]\n",
    "plt.figure(figsize = (10, 8))\n",
    "sns.scatterplot(x_axis, y_axis, hue = df_segm_pca_kmeans[\"Segment\"], palette=[\"g\", \"r\", \"c\", \"m\"])\n",
    "plt.title(\"Clusters by PCA Components\")\n",
    "plt.show()"
   ]
  },
  {
   "cell_type": "code",
   "execution_count": null,
   "metadata": {},
   "outputs": [],
   "source": []
  },
  {
   "cell_type": "code",
   "execution_count": null,
   "metadata": {},
   "outputs": [],
   "source": []
  },
  {
   "cell_type": "code",
   "execution_count": null,
   "metadata": {},
   "outputs": [],
   "source": []
  },
  {
   "cell_type": "code",
   "execution_count": null,
   "metadata": {},
   "outputs": [],
   "source": []
  },
  {
   "cell_type": "code",
   "execution_count": null,
   "metadata": {},
   "outputs": [],
   "source": []
  },
  {
   "cell_type": "code",
   "execution_count": null,
   "metadata": {},
   "outputs": [],
   "source": []
  },
  {
   "cell_type": "code",
   "execution_count": null,
   "metadata": {},
   "outputs": [],
   "source": []
  },
  {
   "cell_type": "code",
   "execution_count": null,
   "metadata": {},
   "outputs": [],
   "source": []
  },
  {
   "cell_type": "code",
   "execution_count": null,
   "metadata": {},
   "outputs": [],
   "source": []
  },
  {
   "cell_type": "markdown",
   "metadata": {},
   "source": []
  }
 ],
 "metadata": {
  "kernelspec": {
   "display_name": "Python 3",
   "language": "python",
   "name": "python3"
  },
  "language_info": {
   "codemirror_mode": {
    "name": "ipython",
    "version": 3
   },
   "file_extension": ".py",
   "mimetype": "text/x-python",
   "name": "python",
   "nbconvert_exporter": "python",
   "pygments_lexer": "ipython3",
   "version": "3.7.9"
  }
 },
 "nbformat": 4,
 "nbformat_minor": 4
}