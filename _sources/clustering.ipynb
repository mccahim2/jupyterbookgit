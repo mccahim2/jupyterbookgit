{
 "cells": [
  {
   "cell_type": "markdown",
   "metadata": {},
   "source": [
    "# K-Means Clustering"
   ]
  },
  {
   "cell_type": "markdown",
   "metadata": {},
   "source": [
    "### Table of contents"
   ]
  },
  {
   "cell_type": "code",
   "execution_count": 1,
   "metadata": {},
   "outputs": [],
   "source": [
    "import pandas as pd\n",
    "import numpy as np\n",
    "from sklearn.cluster import KMeans\n",
    "from sklearn import metrics\n",
    "from scipy.spatial.distance import cdist\n",
    "import numpy as np\n",
    "import matplotlib.pyplot as plt\n",
    "import seaborn as sns\n",
    "from sklearn.metrics import silhouette_score\n",
    "%matplotlib inline"
   ]
  },
  {
   "cell_type": "markdown",
   "metadata": {},
   "source": [
    "Read in normalised data"
   ]
  },
  {
   "cell_type": "code",
   "execution_count": 2,
   "metadata": {},
   "outputs": [
    {
     "data": {
      "text/html": [
       "<div>\n",
       "<style scoped>\n",
       "    .dataframe tbody tr th:only-of-type {\n",
       "        vertical-align: middle;\n",
       "    }\n",
       "\n",
       "    .dataframe tbody tr th {\n",
       "        vertical-align: top;\n",
       "    }\n",
       "\n",
       "    .dataframe thead th {\n",
       "        text-align: right;\n",
       "    }\n",
       "</style>\n",
       "<table border=\"1\" class=\"dataframe\">\n",
       "  <thead>\n",
       "    <tr style=\"text-align: right;\">\n",
       "      <th></th>\n",
       "      <th>Total</th>\n",
       "      <th>No_participants</th>\n",
       "      <th>Amount_won</th>\n",
       "      <th>Amount_lost</th>\n",
       "      <th>1</th>\n",
       "      <th>2</th>\n",
       "      <th>3</th>\n",
       "      <th>4</th>\n",
       "      <th>Study_Type_Fridberg</th>\n",
       "      <th>Study_Type_Horstmann</th>\n",
       "      <th>Study_Type_Kjome</th>\n",
       "      <th>Study_Type_Maia</th>\n",
       "      <th>Study_Type_Premkumar</th>\n",
       "      <th>Study_Type_Steingroever2011</th>\n",
       "      <th>Study_Type_SteingroverInPrep</th>\n",
       "      <th>Study_Type_Wetzels</th>\n",
       "      <th>Study_Type_Wood</th>\n",
       "      <th>Study_Type_Worthy</th>\n",
       "    </tr>\n",
       "  </thead>\n",
       "  <tbody>\n",
       "    <tr>\n",
       "      <th>0</th>\n",
       "      <td>0.675000</td>\n",
       "      <td>95</td>\n",
       "      <td>0.052910</td>\n",
       "      <td>0.880249</td>\n",
       "      <td>0.250000</td>\n",
       "      <td>0.062937</td>\n",
       "      <td>0.013423</td>\n",
       "      <td>0.525926</td>\n",
       "      <td>1</td>\n",
       "      <td>0</td>\n",
       "      <td>0</td>\n",
       "      <td>0</td>\n",
       "      <td>0</td>\n",
       "      <td>0</td>\n",
       "      <td>0</td>\n",
       "      <td>0</td>\n",
       "      <td>0</td>\n",
       "      <td>0</td>\n",
       "    </tr>\n",
       "    <tr>\n",
       "      <th>1</th>\n",
       "      <td>0.446875</td>\n",
       "      <td>95</td>\n",
       "      <td>0.206349</td>\n",
       "      <td>0.676516</td>\n",
       "      <td>0.500000</td>\n",
       "      <td>0.181818</td>\n",
       "      <td>0.073826</td>\n",
       "      <td>0.244444</td>\n",
       "      <td>1</td>\n",
       "      <td>0</td>\n",
       "      <td>0</td>\n",
       "      <td>0</td>\n",
       "      <td>0</td>\n",
       "      <td>0</td>\n",
       "      <td>0</td>\n",
       "      <td>0</td>\n",
       "      <td>0</td>\n",
       "      <td>0</td>\n",
       "    </tr>\n",
       "    <tr>\n",
       "      <th>2</th>\n",
       "      <td>0.437500</td>\n",
       "      <td>95</td>\n",
       "      <td>0.190476</td>\n",
       "      <td>0.681182</td>\n",
       "      <td>0.250000</td>\n",
       "      <td>0.244755</td>\n",
       "      <td>0.060403</td>\n",
       "      <td>0.281481</td>\n",
       "      <td>1</td>\n",
       "      <td>0</td>\n",
       "      <td>0</td>\n",
       "      <td>0</td>\n",
       "      <td>0</td>\n",
       "      <td>0</td>\n",
       "      <td>0</td>\n",
       "      <td>0</td>\n",
       "      <td>0</td>\n",
       "      <td>0</td>\n",
       "    </tr>\n",
       "    <tr>\n",
       "      <th>3</th>\n",
       "      <td>0.465625</td>\n",
       "      <td>95</td>\n",
       "      <td>0.179894</td>\n",
       "      <td>0.701400</td>\n",
       "      <td>0.229167</td>\n",
       "      <td>0.237762</td>\n",
       "      <td>0.073826</td>\n",
       "      <td>0.281481</td>\n",
       "      <td>1</td>\n",
       "      <td>0</td>\n",
       "      <td>0</td>\n",
       "      <td>0</td>\n",
       "      <td>0</td>\n",
       "      <td>0</td>\n",
       "      <td>0</td>\n",
       "      <td>0</td>\n",
       "      <td>0</td>\n",
       "      <td>0</td>\n",
       "    </tr>\n",
       "    <tr>\n",
       "      <th>4</th>\n",
       "      <td>0.543750</td>\n",
       "      <td>95</td>\n",
       "      <td>0.121693</td>\n",
       "      <td>0.774495</td>\n",
       "      <td>0.208333</td>\n",
       "      <td>0.167832</td>\n",
       "      <td>0.093960</td>\n",
       "      <td>0.340741</td>\n",
       "      <td>1</td>\n",
       "      <td>0</td>\n",
       "      <td>0</td>\n",
       "      <td>0</td>\n",
       "      <td>0</td>\n",
       "      <td>0</td>\n",
       "      <td>0</td>\n",
       "      <td>0</td>\n",
       "      <td>0</td>\n",
       "      <td>0</td>\n",
       "    </tr>\n",
       "  </tbody>\n",
       "</table>\n",
       "</div>"
      ],
      "text/plain": [
       "      Total  No_participants  Amount_won  Amount_lost         1         2  \\\n",
       "0  0.675000               95    0.052910     0.880249  0.250000  0.062937   \n",
       "1  0.446875               95    0.206349     0.676516  0.500000  0.181818   \n",
       "2  0.437500               95    0.190476     0.681182  0.250000  0.244755   \n",
       "3  0.465625               95    0.179894     0.701400  0.229167  0.237762   \n",
       "4  0.543750               95    0.121693     0.774495  0.208333  0.167832   \n",
       "\n",
       "          3         4  Study_Type_Fridberg  Study_Type_Horstmann  \\\n",
       "0  0.013423  0.525926                    1                     0   \n",
       "1  0.073826  0.244444                    1                     0   \n",
       "2  0.060403  0.281481                    1                     0   \n",
       "3  0.073826  0.281481                    1                     0   \n",
       "4  0.093960  0.340741                    1                     0   \n",
       "\n",
       "   Study_Type_Kjome  Study_Type_Maia  Study_Type_Premkumar  \\\n",
       "0                 0                0                     0   \n",
       "1                 0                0                     0   \n",
       "2                 0                0                     0   \n",
       "3                 0                0                     0   \n",
       "4                 0                0                     0   \n",
       "\n",
       "   Study_Type_Steingroever2011  Study_Type_SteingroverInPrep  \\\n",
       "0                            0                             0   \n",
       "1                            0                             0   \n",
       "2                            0                             0   \n",
       "3                            0                             0   \n",
       "4                            0                             0   \n",
       "\n",
       "   Study_Type_Wetzels  Study_Type_Wood  Study_Type_Worthy  \n",
       "0                   0                0                  0  \n",
       "1                   0                0                  0  \n",
       "2                   0                0                  0  \n",
       "3                   0                0                  0  \n",
       "4                   0                0                  0  "
      ]
     },
     "execution_count": 2,
     "metadata": {},
     "output_type": "execute_result"
    }
   ],
   "source": [
    "df = pd.read_csv('data/normalise.csv')\n",
    "df=df.drop([\"Unnamed: 0\"], axis=1) # Drop Unnamed: 0 column\n",
    "df.head()"
   ]
  },
  {
   "cell_type": "code",
   "execution_count": 3,
   "metadata": {},
   "outputs": [
    {
     "data": {
      "text/html": [
       "<div>\n",
       "<style scoped>\n",
       "    .dataframe tbody tr th:only-of-type {\n",
       "        vertical-align: middle;\n",
       "    }\n",
       "\n",
       "    .dataframe tbody tr th {\n",
       "        vertical-align: top;\n",
       "    }\n",
       "\n",
       "    .dataframe thead th {\n",
       "        text-align: right;\n",
       "    }\n",
       "</style>\n",
       "<table border=\"1\" class=\"dataframe\">\n",
       "  <thead>\n",
       "    <tr style=\"text-align: right;\">\n",
       "      <th></th>\n",
       "      <th>Total</th>\n",
       "      <th>No_participants</th>\n",
       "      <th>Amount_won</th>\n",
       "      <th>Amount_lost</th>\n",
       "      <th>1</th>\n",
       "      <th>2</th>\n",
       "      <th>3</th>\n",
       "      <th>4</th>\n",
       "      <th>Study_Type_Fridberg</th>\n",
       "      <th>Study_Type_Horstmann</th>\n",
       "      <th>Study_Type_Kjome</th>\n",
       "      <th>Study_Type_Maia</th>\n",
       "      <th>Study_Type_Premkumar</th>\n",
       "      <th>Study_Type_Steingroever2011</th>\n",
       "      <th>Study_Type_SteingroverInPrep</th>\n",
       "      <th>Study_Type_Wetzels</th>\n",
       "      <th>Study_Type_Wood</th>\n",
       "      <th>Study_Type_Worthy</th>\n",
       "    </tr>\n",
       "  </thead>\n",
       "  <tbody>\n",
       "    <tr>\n",
       "      <th>0</th>\n",
       "      <td>0.675000</td>\n",
       "      <td>95</td>\n",
       "      <td>0.052910</td>\n",
       "      <td>0.880249</td>\n",
       "      <td>0.250000</td>\n",
       "      <td>0.062937</td>\n",
       "      <td>0.013423</td>\n",
       "      <td>0.525926</td>\n",
       "      <td>1</td>\n",
       "      <td>0</td>\n",
       "      <td>0</td>\n",
       "      <td>0</td>\n",
       "      <td>0</td>\n",
       "      <td>0</td>\n",
       "      <td>0</td>\n",
       "      <td>0</td>\n",
       "      <td>0</td>\n",
       "      <td>0</td>\n",
       "    </tr>\n",
       "    <tr>\n",
       "      <th>1</th>\n",
       "      <td>0.446875</td>\n",
       "      <td>95</td>\n",
       "      <td>0.206349</td>\n",
       "      <td>0.676516</td>\n",
       "      <td>0.500000</td>\n",
       "      <td>0.181818</td>\n",
       "      <td>0.073826</td>\n",
       "      <td>0.244444</td>\n",
       "      <td>1</td>\n",
       "      <td>0</td>\n",
       "      <td>0</td>\n",
       "      <td>0</td>\n",
       "      <td>0</td>\n",
       "      <td>0</td>\n",
       "      <td>0</td>\n",
       "      <td>0</td>\n",
       "      <td>0</td>\n",
       "      <td>0</td>\n",
       "    </tr>\n",
       "    <tr>\n",
       "      <th>2</th>\n",
       "      <td>0.437500</td>\n",
       "      <td>95</td>\n",
       "      <td>0.190476</td>\n",
       "      <td>0.681182</td>\n",
       "      <td>0.250000</td>\n",
       "      <td>0.244755</td>\n",
       "      <td>0.060403</td>\n",
       "      <td>0.281481</td>\n",
       "      <td>1</td>\n",
       "      <td>0</td>\n",
       "      <td>0</td>\n",
       "      <td>0</td>\n",
       "      <td>0</td>\n",
       "      <td>0</td>\n",
       "      <td>0</td>\n",
       "      <td>0</td>\n",
       "      <td>0</td>\n",
       "      <td>0</td>\n",
       "    </tr>\n",
       "    <tr>\n",
       "      <th>3</th>\n",
       "      <td>0.465625</td>\n",
       "      <td>95</td>\n",
       "      <td>0.179894</td>\n",
       "      <td>0.701400</td>\n",
       "      <td>0.229167</td>\n",
       "      <td>0.237762</td>\n",
       "      <td>0.073826</td>\n",
       "      <td>0.281481</td>\n",
       "      <td>1</td>\n",
       "      <td>0</td>\n",
       "      <td>0</td>\n",
       "      <td>0</td>\n",
       "      <td>0</td>\n",
       "      <td>0</td>\n",
       "      <td>0</td>\n",
       "      <td>0</td>\n",
       "      <td>0</td>\n",
       "      <td>0</td>\n",
       "    </tr>\n",
       "    <tr>\n",
       "      <th>4</th>\n",
       "      <td>0.543750</td>\n",
       "      <td>95</td>\n",
       "      <td>0.121693</td>\n",
       "      <td>0.774495</td>\n",
       "      <td>0.208333</td>\n",
       "      <td>0.167832</td>\n",
       "      <td>0.093960</td>\n",
       "      <td>0.340741</td>\n",
       "      <td>1</td>\n",
       "      <td>0</td>\n",
       "      <td>0</td>\n",
       "      <td>0</td>\n",
       "      <td>0</td>\n",
       "      <td>0</td>\n",
       "      <td>0</td>\n",
       "      <td>0</td>\n",
       "      <td>0</td>\n",
       "      <td>0</td>\n",
       "    </tr>\n",
       "  </tbody>\n",
       "</table>\n",
       "</div>"
      ],
      "text/plain": [
       "      Total  No_participants  Amount_won  Amount_lost         1         2  \\\n",
       "0  0.675000               95    0.052910     0.880249  0.250000  0.062937   \n",
       "1  0.446875               95    0.206349     0.676516  0.500000  0.181818   \n",
       "2  0.437500               95    0.190476     0.681182  0.250000  0.244755   \n",
       "3  0.465625               95    0.179894     0.701400  0.229167  0.237762   \n",
       "4  0.543750               95    0.121693     0.774495  0.208333  0.167832   \n",
       "\n",
       "          3         4  Study_Type_Fridberg  Study_Type_Horstmann  \\\n",
       "0  0.013423  0.525926                    1                     0   \n",
       "1  0.073826  0.244444                    1                     0   \n",
       "2  0.060403  0.281481                    1                     0   \n",
       "3  0.073826  0.281481                    1                     0   \n",
       "4  0.093960  0.340741                    1                     0   \n",
       "\n",
       "   Study_Type_Kjome  Study_Type_Maia  Study_Type_Premkumar  \\\n",
       "0                 0                0                     0   \n",
       "1                 0                0                     0   \n",
       "2                 0                0                     0   \n",
       "3                 0                0                     0   \n",
       "4                 0                0                     0   \n",
       "\n",
       "   Study_Type_Steingroever2011  Study_Type_SteingroverInPrep  \\\n",
       "0                            0                             0   \n",
       "1                            0                             0   \n",
       "2                            0                             0   \n",
       "3                            0                             0   \n",
       "4                            0                             0   \n",
       "\n",
       "   Study_Type_Wetzels  Study_Type_Wood  Study_Type_Worthy  \n",
       "0                   0                0                  0  \n",
       "1                   0                0                  0  \n",
       "2                   0                0                  0  \n",
       "3                   0                0                  0  \n",
       "4                   0                0                  0  "
      ]
     },
     "execution_count": 3,
     "metadata": {},
     "output_type": "execute_result"
    }
   ],
   "source": [
    "df.head()"
   ]
  },
  {
   "cell_type": "markdown",
   "metadata": {},
   "source": [
    "The first step of the clustering process is to determine a value for K. This can be done by:<br />\n",
    "* **The Elbow Method**\n",
    "* **Silhouette score**\n",
    "* **SilhouetteVisualizer**\n",
    "\n",
    "Three methods will be used to find the best value for K to use for clustering"
   ]
  },
  {
   "cell_type": "markdown",
   "metadata": {},
   "source": [
    "### Methods for finding K Value"
   ]
  },
  {
   "cell_type": "code",
   "execution_count": 4,
   "metadata": {},
   "outputs": [],
   "source": [
    "# Elbow(distortion and inertia) method and silhouette method"
   ]
  },
  {
   "cell_type": "markdown",
   "metadata": {},
   "source": [
    "When the distortions are plotted and the plot looks like an arm then the [“elbow”](https://predictivehacks.com/k-means-elbow-method-code-for-python/)(the point of inflection on the curve) is the best value of k."
   ]
  },
  {
   "cell_type": "markdown",
   "metadata": {},
   "source": [
    "The formula for the Elbow method can be seen here:\n",
    "    SSE = \\sum_{i=1}^{N} {(y_i - ŷ_i)^2}"
   ]
  },
  {
   "cell_type": "code",
   "execution_count": 5,
   "metadata": {},
   "outputs": [],
   "source": [
    "from sklearn.cluster import KMeans\n",
    "distortions = []\n",
    "K = range(1,10)\n",
    "for k in K:\n",
    "    kmeanModel = KMeans(n_clusters=k)\n",
    "    kmeanModel.fit(df)\n",
    "    distortions.append(kmeanModel.inertia_)"
   ]
  },
  {
   "cell_type": "code",
   "execution_count": 6,
   "metadata": {},
   "outputs": [
    {
     "data": {
      "image/png": "[encoded data removed]",
      "text/plain": [
       "<Figure size 1152x576 with 1 Axes>"
      ]
     },
     "metadata": {
      "needs_background": "light"
     },
     "output_type": "display_data"
    }
   ],
   "source": [
    "import matplotlib.pyplot as plt\n",
    "%matplotlib inline \n",
    "\n",
    "plt.figure(figsize=(16,8))\n",
    "plt.plot(K, distortions, 'bx-')\n",
    "plt.xlabel('k')\n",
    "plt.ylabel('Distortion')\n",
    "plt.title('The Elbow Method showing the optimal k')\n",
    "plt.show()"
   ]
  },
  {
   "cell_type": "markdown",
   "metadata": {},
   "source": [
    "silhouette score is used to to measure the degree of seperation between clusters"
   ]
  },
  {
   "cell_type": "code",
   "execution_count": 8,
   "metadata": {},
   "outputs": [
    {
     "name": "stdout",
     "output_type": "stream",
     "text": [
      "N = 2 Silhouette Score: 0.972\n",
      "N = 3 Silhouette Score: 0.802\n",
      "N = 4 Silhouette Score: 0.486\n",
      "N = 5 Silhouette Score: 0.613\n",
      "N = 6 Silhouette Score: 0.679\n",
      "N = 7 Silhouette Score: 0.615\n",
      "N = 8 Silhouette Score: 0.658\n",
      "N = 9 Silhouette Score: 0.695\n",
      "N = 10 Silhouette Score: 0.721\n"
     ]
    }
   ],
   "source": [
    "for n in range(2, 11):\n",
    "    km = KMeans(n_clusters=n)\n",
    "#\n",
    "# Fit the KMeans model\n",
    "# Have to pick subset of columns as Study column is in string format\n",
    "    km.fit_predict(df)\n",
    "#\n",
    "# Calculate Silhoutte Score\n",
    "#\n",
    "    score = silhouette_score(df, km.labels_, metric='euclidean')\n",
    "#\n",
    "# Print the score\n",
    "#\n",
    "    print('N = ' + str(n) + ' Silhouette Score: %.3f' % score)"
   ]
  },
  {
   "cell_type": "markdown",
   "metadata": {},
   "source": [
    "Perform Comparative Analysis to Determine Best Value of K using Silhouette Plot"
   ]
  },
  {
   "cell_type": "code",
   "execution_count": 9,
   "metadata": {},
   "outputs": [
    {
     "data": {
      "image/png": "[encoded data removed]",
      "text/plain": [
       "<Figure size 1080x576 with 4 Axes>"
      ]
     },
     "metadata": {},
     "output_type": "display_data"
    }
   ],
   "source": [
    "from yellowbrick.cluster import SilhouetteVisualizer\n",
    "\n",
    "fig, ax = plt.subplots(2, 2, figsize=(15,8))\n",
    "for i in [2, 3, 4, 5]:\n",
    "    '''\n",
    "    Create KMeans instance for different number of clusters\n",
    "    '''\n",
    "    km = KMeans(n_clusters=i, init='k-means++', n_init=10, max_iter=100, random_state=42)\n",
    "    q, mod = divmod(i, 2)\n",
    "    '''\n",
    "    Create SilhouetteVisualizer instance with KMeans instance\n",
    "    Fit the visualizer\n",
    "    '''\n",
    "    visualizer = SilhouetteVisualizer(km, colors='yellowbrick', ax=ax[q-1][mod])\n",
    "    visualizer.fit(df)"
   ]
  },
  {
   "cell_type": "markdown",
   "metadata": {},
   "source": [
    "Add in formulas and explain why each value backs up using k=2"
   ]
  },
  {
   "cell_type": "code",
   "execution_count": null,
   "metadata": {},
   "outputs": [],
   "source": []
  },
  {
   "cell_type": "code",
   "execution_count": null,
   "metadata": {},
   "outputs": [],
   "source": []
  },
  {
   "cell_type": "code",
   "execution_count": null,
   "metadata": {},
   "outputs": [],
   "source": []
  },
  {
   "cell_type": "code",
   "execution_count": null,
   "metadata": {},
   "outputs": [],
   "source": []
  },
  {
   "cell_type": "code",
   "execution_count": null,
   "metadata": {},
   "outputs": [],
   "source": []
  },
  {
   "cell_type": "markdown",
   "metadata": {},
   "source": [
    "As it stands the best value for k is 2"
   ]
  },
  {
   "cell_type": "code",
   "execution_count": null,
   "metadata": {},
   "outputs": [],
   "source": [
    "pd.plotting.scatter_matrix(df, figsize=(50,50), hist_kwds=dict(bins=50), cmap=\"Set1\")\n",
    "plt.show()"
   ]
  },
  {
   "cell_type": "markdown",
   "metadata": {},
   "source": [
    "Looking at this initial scatter matrix it is clear to see there is a lot of noise.\n",
    "\n",
    "I will drop the study name columns to make findings more clear"
   ]
  },
  {
   "cell_type": "code",
   "execution_count": null,
   "metadata": {},
   "outputs": [],
   "source": [
    "df.drop(columns=['No_participants', 'Study_Type_Fridberg', 'Study_Type_Horstmann', 'Study_Type_Kjome', 'Study_Type_Maia', 'Study_Type_Premkumar', 'Study_Type_Steingroever2011', 'Study_Type_SteingroverInPrep', 'Study_Type_Wetzels', 'Study_Type_Wood', 'Study_Type_Worthy'], inplace=True)"
   ]
  },
  {
   "cell_type": "code",
   "execution_count": null,
   "metadata": {},
   "outputs": [],
   "source": [
    "df.head()"
   ]
  },
  {
   "cell_type": "code",
   "execution_count": null,
   "metadata": {},
   "outputs": [],
   "source": [
    "pd.plotting.scatter_matrix(df, figsize=(15,15), hist_kwds=dict(bins=50), cmap=\"Set1\")\n",
    "plt.show()"
   ]
  },
  {
   "cell_type": "markdown",
   "metadata": {},
   "source": [
    ":::{note}\n",
    "This correlation matrix is used to find highly correlated variables\n",
    ":::"
   ]
  },
  {
   "cell_type": "code",
   "execution_count": null,
   "metadata": {},
   "outputs": [],
   "source": [
    "plt.figure(figsize=(16, 6))\n",
    "heatmap = sns.heatmap(df.corr(), vmin=-1, vmax=1, annot=True)\n",
    "heatmap.set_title('Correlation Heatmap', fontdict={'fontsize':12}, pad=12);"
   ]
  },
  {
   "cell_type": "code",
   "execution_count": null,
   "metadata": {},
   "outputs": [],
   "source": []
  },
  {
   "cell_type": "markdown",
   "metadata": {},
   "source": [
    "### Main Cluster Analysis"
   ]
  },
  {
   "cell_type": "code",
   "execution_count": null,
   "metadata": {},
   "outputs": [],
   "source": []
  },
  {
   "cell_type": "code",
   "execution_count": null,
   "metadata": {},
   "outputs": [],
   "source": []
  },
  {
   "cell_type": "code",
   "execution_count": null,
   "metadata": {},
   "outputs": [],
   "source": []
  },
  {
   "cell_type": "code",
   "execution_count": null,
   "metadata": {},
   "outputs": [],
   "source": []
  },
  {
   "cell_type": "code",
   "execution_count": null,
   "metadata": {},
   "outputs": [],
   "source": []
  },
  {
   "cell_type": "code",
   "execution_count": null,
   "metadata": {},
   "outputs": [],
   "source": []
  },
  {
   "cell_type": "code",
   "execution_count": null,
   "metadata": {},
   "outputs": [],
   "source": []
  },
  {
   "cell_type": "code",
   "execution_count": null,
   "metadata": {},
   "outputs": [],
   "source": []
  },
  {
   "cell_type": "code",
   "execution_count": null,
   "metadata": {},
   "outputs": [],
   "source": []
  },
  {
   "cell_type": "code",
   "execution_count": null,
   "metadata": {},
   "outputs": [],
   "source": []
  },
  {
   "cell_type": "code",
   "execution_count": null,
   "metadata": {},
   "outputs": [],
   "source": []
  },
  {
   "cell_type": "code",
   "execution_count": null,
   "metadata": {},
   "outputs": [],
   "source": []
  },
  {
   "cell_type": "code",
   "execution_count": null,
   "metadata": {},
   "outputs": [],
   "source": []
  },
  {
   "cell_type": "code",
   "execution_count": null,
   "metadata": {},
   "outputs": [],
   "source": []
  },
  {
   "cell_type": "code",
   "execution_count": null,
   "metadata": {},
   "outputs": [],
   "source": []
  },
  {
   "cell_type": "code",
   "execution_count": null,
   "metadata": {},
   "outputs": [],
   "source": []
  },
  {
   "cell_type": "code",
   "execution_count": null,
   "metadata": {},
   "outputs": [],
   "source": []
  },
  {
   "cell_type": "code",
   "execution_count": null,
   "metadata": {},
   "outputs": [],
   "source": []
  },
  {
   "cell_type": "code",
   "execution_count": null,
   "metadata": {},
   "outputs": [],
   "source": []
  },
  {
   "cell_type": "code",
   "execution_count": null,
   "metadata": {},
   "outputs": [],
   "source": []
  },
  {
   "cell_type": "code",
   "execution_count": null,
   "metadata": {},
   "outputs": [],
   "source": []
  },
  {
   "cell_type": "code",
   "execution_count": null,
   "metadata": {},
   "outputs": [],
   "source": []
  }
 ],
 "metadata": {
  "kernelspec": {
   "display_name": "Python 3",
   "language": "python",
   "name": "python3"
  },
  "language_info": {
   "codemirror_mode": {
    "name": "ipython",
    "version": 3
   },
   "file_extension": ".py",
   "mimetype": "text/x-python",
   "name": "python",
   "nbconvert_exporter": "python",
   "pygments_lexer": "ipython3",
   "version": "3.7.9"
  }
 },
 "nbformat": 4,
 "nbformat_minor": 4
}
